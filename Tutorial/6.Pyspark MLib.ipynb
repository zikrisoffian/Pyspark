{
 "cells": [
  {
   "cell_type": "markdown",
   "id": "7c52aa9a",
   "metadata": {},
   "source": [
    "# Pyspark MLib\n",
    "\n",
    "- There are two type of machine learning in spark\n",
    "1. RDD Technique\n",
    "2. Dataframe API (famously used)"
   ]
  },
  {
   "cell_type": "markdown",
   "id": "006c3761",
   "metadata": {},
   "source": [
    "#### Set spark instances"
   ]
  },
  {
   "cell_type": "code",
   "execution_count": 3,
   "id": "1626edf9",
   "metadata": {},
   "outputs": [],
   "source": [
    "import pyspark \n",
    "from pyspark.sql import SparkSession\n",
    "spark = SparkSession.builder.appName('test01').getOrCreate()"
   ]
  },
  {
   "cell_type": "code",
   "execution_count": 2,
   "id": "3397d317",
   "metadata": {},
   "outputs": [
    {
     "data": {
      "text/html": [
       "\n",
       "            <div>\n",
       "                <p><b>SparkSession - in-memory</b></p>\n",
       "                \n",
       "        <div>\n",
       "            <p><b>SparkContext</b></p>\n",
       "\n",
       "            <p><a href=\"http://DESKTOP-7OI8Q9R:4042\">Spark UI</a></p>\n",
       "\n",
       "            <dl>\n",
       "              <dt>Version</dt>\n",
       "                <dd><code>v3.5.0</code></dd>\n",
       "              <dt>Master</dt>\n",
       "                <dd><code>local[*]</code></dd>\n",
       "              <dt>AppName</dt>\n",
       "                <dd><code>test01</code></dd>\n",
       "            </dl>\n",
       "        </div>\n",
       "        \n",
       "            </div>\n",
       "        "
      ],
      "text/plain": [
       "<pyspark.sql.session.SparkSession at 0x23bc064d660>"
      ]
     },
     "execution_count": 2,
     "metadata": {},
     "output_type": "execute_result"
    }
   ],
   "source": [
    "spark"
   ]
  },
  {
   "cell_type": "markdown",
   "id": "783a9bb7",
   "metadata": {},
   "source": [
    "#### Set dataset "
   ]
  },
  {
   "cell_type": "code",
   "execution_count": 4,
   "id": "db49e406",
   "metadata": {},
   "outputs": [
    {
     "name": "stdout",
     "output_type": "stream",
     "text": [
      "+-------+----+----------+------+----------------+\n",
      "|   Name| Age|Experience|Salary|            Role|\n",
      "+-------+----+----------+------+----------------+\n",
      "|  Zikri|  24|         1|  4500|        Helpdesk|\n",
      "|Zakhwan|  25|         1|  4700|      Accounting|\n",
      "|   Amir|  27|         2|  5000|        Helpdesk|\n",
      "|  Ammar|  30|         6|  8500|Customer Service|\n",
      "|  Haziq|  24|         2|  4700|Customer Service|\n",
      "|  Irfan|  25|         1|  6000|         Payroll|\n",
      "|  Fahmi|  27|         5|  7000|         Payroll|\n",
      "|  Majid|  27|      NULL|  5500|        Helpdesk|\n",
      "|   NULL|  25|         2|  5000|        Engineer|\n",
      "|    Ali|  25|         2|  NULL|        Engineer|\n",
      "|    Abu|NULL|      NULL|  NULL|            NULL|\n",
      "+-------+----+----------+------+----------------+\n",
      "\n"
     ]
    }
   ],
   "source": [
    "# read dataset\n",
    "# notice the NULL value\n",
    "\n",
    "training = spark.read.csv('customer.csv', header =True, inferSchema = True)\n",
    "training.show()"
   ]
  },
  {
   "cell_type": "markdown",
   "id": "7f8dbd84",
   "metadata": {},
   "source": [
    "#### Delete NA"
   ]
  },
  {
   "cell_type": "code",
   "execution_count": 6,
   "id": "e69c70ae",
   "metadata": {},
   "outputs": [
    {
     "name": "stdout",
     "output_type": "stream",
     "text": [
      "+-------+---+----------+------+----------------+\n",
      "|   Name|Age|Experience|Salary|            Role|\n",
      "+-------+---+----------+------+----------------+\n",
      "|  Zikri| 24|         1|  4500|        Helpdesk|\n",
      "|Zakhwan| 25|         1|  4700|      Accounting|\n",
      "|   Amir| 27|         2|  5000|        Helpdesk|\n",
      "|  Ammar| 30|         6|  8500|Customer Service|\n",
      "|  Haziq| 24|         2|  4700|Customer Service|\n",
      "|  Irfan| 25|         1|  6000|         Payroll|\n",
      "|  Fahmi| 27|         5|  7000|         Payroll|\n",
      "+-------+---+----------+------+----------------+\n",
      "\n"
     ]
    }
   ],
   "source": [
    "training = training.na.drop()\n",
    "training.show()"
   ]
  },
  {
   "cell_type": "markdown",
   "id": "1c45356c",
   "metadata": {},
   "source": [
    "#### Pyspark ML \n",
    "\n",
    "- Make linear regression model in spark\n",
    "- Predict salary based on age and experience"
   ]
  },
  {
   "cell_type": "code",
   "execution_count": 16,
   "id": "831a5e7b",
   "metadata": {},
   "outputs": [],
   "source": [
    "# basic info of df"
   ]
  },
  {
   "cell_type": "code",
   "execution_count": 7,
   "id": "aac2cb16",
   "metadata": {
    "scrolled": true
   },
   "outputs": [
    {
     "name": "stdout",
     "output_type": "stream",
     "text": [
      "+-------+---+----------+------+----------------+\n",
      "|   Name|Age|Experience|Salary|            Role|\n",
      "+-------+---+----------+------+----------------+\n",
      "|  Zikri| 24|         1|  4500|        Helpdesk|\n",
      "|Zakhwan| 25|         1|  4700|      Accounting|\n",
      "|   Amir| 27|         2|  5000|        Helpdesk|\n",
      "|  Ammar| 30|         6|  8500|Customer Service|\n",
      "|  Haziq| 24|         2|  4700|Customer Service|\n",
      "|  Irfan| 25|         1|  6000|         Payroll|\n",
      "|  Fahmi| 27|         5|  7000|         Payroll|\n",
      "+-------+---+----------+------+----------------+\n",
      "\n"
     ]
    }
   ],
   "source": [
    "training.show()"
   ]
  },
  {
   "cell_type": "code",
   "execution_count": 8,
   "id": "e675738b",
   "metadata": {},
   "outputs": [
    {
     "name": "stdout",
     "output_type": "stream",
     "text": [
      "root\n",
      " |-- Name: string (nullable = true)\n",
      " |-- Age: integer (nullable = true)\n",
      " |-- Experience: integer (nullable = true)\n",
      " |-- Salary: integer (nullable = true)\n",
      " |-- Role: string (nullable = true)\n",
      "\n"
     ]
    }
   ],
   "source": [
    "training.printSchema()"
   ]
  },
  {
   "cell_type": "code",
   "execution_count": 9,
   "id": "ee37718a",
   "metadata": {},
   "outputs": [
    {
     "data": {
      "text/plain": [
       "['Name', 'Age', 'Experience', 'Salary', 'Role']"
      ]
     },
     "execution_count": 9,
     "metadata": {},
     "output_type": "execute_result"
    }
   ],
   "source": [
    "training.columns"
   ]
  },
  {
   "cell_type": "markdown",
   "id": "d87231af",
   "metadata": {},
   "source": [
    " Define independent variable from dependent variable\\\n",
    " Create vector assembler\n",
    "\n",
    "[Age, Experience] ----> New feature ---> Independent feature"
   ]
  },
  {
   "cell_type": "code",
   "execution_count": 10,
   "id": "fa376a71",
   "metadata": {},
   "outputs": [],
   "source": [
    "# to group these independent feature we use VectorAssembler by pyspark\n",
    "\n",
    "from pyspark.ml.feature import VectorAssembler\n",
    "featureassembler = VectorAssembler(inputCols = ['Age','Experience'], outputCol = 'Independent Features')"
   ]
  },
  {
   "cell_type": "code",
   "execution_count": 12,
   "id": "e7c955e7",
   "metadata": {},
   "outputs": [],
   "source": [
    "# take training data as input\n",
    "\n",
    "output = featureassembler.transform(training)"
   ]
  },
  {
   "cell_type": "code",
   "execution_count": 14,
   "id": "5802322c",
   "metadata": {},
   "outputs": [
    {
     "name": "stdout",
     "output_type": "stream",
     "text": [
      "+-------+---+----------+------+----------------+--------------------+\n",
      "|   Name|Age|Experience|Salary|            Role|Independent Features|\n",
      "+-------+---+----------+------+----------------+--------------------+\n",
      "|  Zikri| 24|         1|  4500|        Helpdesk|          [24.0,1.0]|\n",
      "|Zakhwan| 25|         1|  4700|      Accounting|          [25.0,1.0]|\n",
      "|   Amir| 27|         2|  5000|        Helpdesk|          [27.0,2.0]|\n",
      "|  Ammar| 30|         6|  8500|Customer Service|          [30.0,6.0]|\n",
      "|  Haziq| 24|         2|  4700|Customer Service|          [24.0,2.0]|\n",
      "|  Irfan| 25|         1|  6000|         Payroll|          [25.0,1.0]|\n",
      "|  Fahmi| 27|         5|  7000|         Payroll|          [27.0,5.0]|\n",
      "+-------+---+----------+------+----------------+--------------------+\n",
      "\n"
     ]
    }
   ],
   "source": [
    "# show the independent feature that we just created\n",
    "output.show()"
   ]
  },
  {
   "cell_type": "code",
   "execution_count": 15,
   "id": "35fba759",
   "metadata": {},
   "outputs": [
    {
     "data": {
      "text/plain": [
       "['Name', 'Age', 'Experience', 'Salary', 'Role', 'Independent Features']"
      ]
     },
     "execution_count": 15,
     "metadata": {},
     "output_type": "execute_result"
    }
   ],
   "source": [
    "output.columns"
   ]
  },
  {
   "cell_type": "code",
   "execution_count": 18,
   "id": "0536ec20",
   "metadata": {},
   "outputs": [],
   "source": [
    "# Dependent feature is our output feature\n",
    "\n",
    "finalized_data = output.select(\"Independent Features\", \"Salary\")"
   ]
  },
  {
   "cell_type": "code",
   "execution_count": 19,
   "id": "9a614fa1",
   "metadata": {},
   "outputs": [
    {
     "name": "stdout",
     "output_type": "stream",
     "text": [
      "+--------------------+------+\n",
      "|Independent Features|Salary|\n",
      "+--------------------+------+\n",
      "|          [24.0,1.0]|  4500|\n",
      "|          [25.0,1.0]|  4700|\n",
      "|          [27.0,2.0]|  5000|\n",
      "|          [30.0,6.0]|  8500|\n",
      "|          [24.0,2.0]|  4700|\n",
      "|          [25.0,1.0]|  6000|\n",
      "|          [27.0,5.0]|  7000|\n",
      "+--------------------+------+\n",
      "\n"
     ]
    }
   ],
   "source": [
    "# this is our data that we want to predict (build linear model)\n",
    "\n",
    "finalized_data.show()"
   ]
  },
  {
   "cell_type": "code",
   "execution_count": 22,
   "id": "00402c5f",
   "metadata": {},
   "outputs": [],
   "source": [
    "# train-test-split (like sklearn)\n",
    "# train dataset has 75% of data and the rest is test data\n",
    "\n",
    "from pyspark.ml.regression import LinearRegression\n",
    "train_data, test_data = finalized_data.randomSplit([0.75,0.25])\n",
    "\n",
    "# linear regression model, set apart feature and label features\n",
    "# we have 2 feature columns\n",
    "\n",
    "regressor = LinearRegression(featuresCol = 'Independent Features', labelCol = 'Salary')\n",
    "regressor = regressor.fit(train_data)"
   ]
  },
  {
   "cell_type": "code",
   "execution_count": 23,
   "id": "d773e362",
   "metadata": {},
   "outputs": [
    {
     "data": {
      "text/plain": [
       "DenseVector([260.4938, 387.6543])"
      ]
     },
     "execution_count": 23,
     "metadata": {},
     "output_type": "execute_result"
    }
   ],
   "source": [
    "# Coefficients of the model\n",
    "regressor.coefficients"
   ]
  },
  {
   "cell_type": "code",
   "execution_count": 24,
   "id": "7576fd0b",
   "metadata": {},
   "outputs": [
    {
     "data": {
      "text/plain": [
       "-1929.6296296294151"
      ]
     },
     "execution_count": 24,
     "metadata": {},
     "output_type": "execute_result"
    }
   ],
   "source": [
    "# Intercept\n",
    "regressor.intercept"
   ]
  },
  {
   "cell_type": "code",
   "execution_count": 25,
   "id": "3bea21f5",
   "metadata": {},
   "outputs": [
    {
     "name": "stdout",
     "output_type": "stream",
     "text": [
      "+--------------------+------+------------------+\n",
      "|Independent Features|Salary|        prediction|\n",
      "+--------------------+------+------------------+\n",
      "|          [24.0,1.0]|  4500| 4709.876543209884|\n",
      "|          [25.0,1.0]|  4700|4970.3703703703695|\n",
      "+--------------------+------+------------------+\n",
      "\n"
     ]
    }
   ],
   "source": [
    "# Prediction (set the prediction to the test data)\n",
    "# Not too far away\n",
    "\n",
    "pred_results = regressor.evaluate(test_data)\n",
    "pred_results.predictions.show()"
   ]
  },
  {
   "cell_type": "code",
   "execution_count": 32,
   "id": "5a4762f7",
   "metadata": {},
   "outputs": [
    {
     "data": {
      "text/plain": [
       "(240.12345679012697, 58574.15028197064)"
      ]
     },
     "execution_count": 32,
     "metadata": {},
     "output_type": "execute_result"
    }
   ],
   "source": [
    "# Parameter\n",
    "\n",
    "pred_results.meanAbsoluteError,pred_results.meanSquaredError"
   ]
  }
 ],
 "metadata": {
  "kernelspec": {
   "display_name": "Python 3 (ipykernel)",
   "language": "python",
   "name": "python3"
  },
  "language_info": {
   "codemirror_mode": {
    "name": "ipython",
    "version": 3
   },
   "file_extension": ".py",
   "mimetype": "text/x-python",
   "name": "python",
   "nbconvert_exporter": "python",
   "pygments_lexer": "ipython3",
   "version": "3.10.9"
  }
 },
 "nbformat": 4,
 "nbformat_minor": 5
}
