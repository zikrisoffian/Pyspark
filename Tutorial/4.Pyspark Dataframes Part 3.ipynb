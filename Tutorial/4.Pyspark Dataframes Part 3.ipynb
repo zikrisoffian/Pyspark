{
 "cells": [
  {
   "cell_type": "markdown",
   "id": "7c52aa9a",
   "metadata": {},
   "source": [
    "# Pyspark Dataframe Part 3 : Filter Operation\n",
    "We will look into \n",
    "- filter operation\n",
    "- and , or , equal to\n",
    "- ~\n"
   ]
  },
  {
   "cell_type": "markdown",
   "id": "006c3761",
   "metadata": {},
   "source": [
    "#### Set spark instances"
   ]
  },
  {
   "cell_type": "code",
   "execution_count": 2,
   "id": "1626edf9",
   "metadata": {},
   "outputs": [],
   "source": [
    "import pyspark \n",
    "from pyspark.sql import SparkSession\n",
    "spark = SparkSession.builder.appName('test01').getOrCreate()"
   ]
  },
  {
   "cell_type": "code",
   "execution_count": 2,
   "id": "3397d317",
   "metadata": {},
   "outputs": [
    {
     "data": {
      "text/html": [
       "\n",
       "            <div>\n",
       "                <p><b>SparkSession - in-memory</b></p>\n",
       "                \n",
       "        <div>\n",
       "            <p><b>SparkContext</b></p>\n",
       "\n",
       "            <p><a href=\"http://DESKTOP-7OI8Q9R:4042\">Spark UI</a></p>\n",
       "\n",
       "            <dl>\n",
       "              <dt>Version</dt>\n",
       "                <dd><code>v3.5.0</code></dd>\n",
       "              <dt>Master</dt>\n",
       "                <dd><code>local[*]</code></dd>\n",
       "              <dt>AppName</dt>\n",
       "                <dd><code>test01</code></dd>\n",
       "            </dl>\n",
       "        </div>\n",
       "        \n",
       "            </div>\n",
       "        "
      ],
      "text/plain": [
       "<pyspark.sql.session.SparkSession at 0x23bc064d660>"
      ]
     },
     "execution_count": 2,
     "metadata": {},
     "output_type": "execute_result"
    }
   ],
   "source": [
    "spark"
   ]
  },
  {
   "cell_type": "markdown",
   "id": "783a9bb7",
   "metadata": {},
   "source": [
    "#### Set dataset "
   ]
  },
  {
   "cell_type": "code",
   "execution_count": 11,
   "id": "7dc5505a",
   "metadata": {},
   "outputs": [
    {
     "name": "stdout",
     "output_type": "stream",
     "text": [
      "+-------+----+----------+------+\n",
      "|   Name| Age|Experience|Salary|\n",
      "+-------+----+----------+------+\n",
      "|  Zikri|  24|         1|  4500|\n",
      "|Zakhwan|  25|         1|  4700|\n",
      "|   Amir|  27|         2|  5000|\n",
      "|  Ammar|  30|         6|  8500|\n",
      "|  Haziq|  24|         2|  4700|\n",
      "|  Irfan|  25|         1|  6000|\n",
      "|  Fahmi|  27|         5|  7000|\n",
      "|  Majid|  27|      NULL|  5500|\n",
      "|   NULL|  25|         2|  5000|\n",
      "|    Ali|  25|         2|  NULL|\n",
      "|    Abu|NULL|      NULL|  NULL|\n",
      "+-------+----+----------+------+\n",
      "\n"
     ]
    }
   ],
   "source": [
    "# read dataset\n",
    "# notice the NULL value\n",
    "\n",
    "df_pyspark = spark.read.csv('customer.csv', header =True, inferSchema = True)\n",
    "df_pyspark.show()"
   ]
  },
  {
   "cell_type": "code",
   "execution_count": 12,
   "id": "43932720",
   "metadata": {},
   "outputs": [
    {
     "name": "stdout",
     "output_type": "stream",
     "text": [
      "+-------+---+----------+------+\n",
      "|   Name|Age|Experience|Salary|\n",
      "+-------+---+----------+------+\n",
      "|  Zikri| 24|         1|  4500|\n",
      "|Zakhwan| 25|         1|  4700|\n",
      "|   Amir| 27|         2|  5000|\n",
      "|  Ammar| 30|         6|  8500|\n",
      "|  Haziq| 24|         2|  4700|\n",
      "|  Irfan| 25|         1|  6000|\n",
      "|  Fahmi| 27|         5|  7000|\n",
      "+-------+---+----------+------+\n",
      "\n"
     ]
    }
   ],
   "source": [
    "#### Delete NULL values\n",
    "\n",
    "df_pyspark = df_pyspark.na.drop()\n",
    "df_pyspark.show()"
   ]
  },
  {
   "cell_type": "markdown",
   "id": "33dc285c",
   "metadata": {},
   "source": [
    "#### Filter operation"
   ]
  },
  {
   "cell_type": "code",
   "execution_count": 14,
   "id": "e96fc9dd",
   "metadata": {},
   "outputs": [
    {
     "name": "stdout",
     "output_type": "stream",
     "text": [
      "+-------+---+----------+------+\n",
      "|   Name|Age|Experience|Salary|\n",
      "+-------+---+----------+------+\n",
      "|  Zikri| 24|         1|  4500|\n",
      "|Zakhwan| 25|         1|  4700|\n",
      "|   Amir| 27|         2|  5000|\n",
      "|  Haziq| 24|         2|  4700|\n",
      "+-------+---+----------+------+\n",
      "\n"
     ]
    }
   ],
   "source": [
    "# filter (salary less than or equal to 5500)\n",
    "\n",
    "df_pyspark.filter(\"Salary <= 5500\").show()"
   ]
  },
  {
   "cell_type": "code",
   "execution_count": 15,
   "id": "774ffc96",
   "metadata": {},
   "outputs": [
    {
     "name": "stdout",
     "output_type": "stream",
     "text": [
      "+-------+---+\n",
      "|   Name|Age|\n",
      "+-------+---+\n",
      "|  Zikri| 24|\n",
      "|Zakhwan| 25|\n",
      "|   Amir| 27|\n",
      "|  Haziq| 24|\n",
      "+-------+---+\n",
      "\n"
     ]
    }
   ],
   "source": [
    "# filter (salary less than or equal to 5500)\n",
    "# add select to filter\n",
    "\n",
    "df_pyspark.filter(\"Salary <= 5500\").select(['Name','Age']).show()"
   ]
  },
  {
   "cell_type": "code",
   "execution_count": 22,
   "id": "d4f03202",
   "metadata": {},
   "outputs": [
    {
     "name": "stdout",
     "output_type": "stream",
     "text": [
      "+-------+---+----------+------+\n",
      "|   Name|Age|Experience|Salary|\n",
      "+-------+---+----------+------+\n",
      "|  Zikri| 24|         1|  4500|\n",
      "|Zakhwan| 25|         1|  4700|\n",
      "|  Haziq| 24|         2|  4700|\n",
      "+-------+---+----------+------+\n",
      "\n"
     ]
    }
   ],
   "source": [
    "# make 2 filters using &\n",
    "\n",
    "df_pyspark.filter((df_pyspark['Salary'] <= 5500) &\n",
    "                   (df_pyspark['Age'] <= 25)).show()"
   ]
  },
  {
   "cell_type": "code",
   "execution_count": 23,
   "id": "1d3ea0aa",
   "metadata": {},
   "outputs": [
    {
     "name": "stdout",
     "output_type": "stream",
     "text": [
      "+-------+---+----------+------+\n",
      "|   Name|Age|Experience|Salary|\n",
      "+-------+---+----------+------+\n",
      "|  Zikri| 24|         1|  4500|\n",
      "|Zakhwan| 25|         1|  4700|\n",
      "|   Amir| 27|         2|  5000|\n",
      "|  Haziq| 24|         2|  4700|\n",
      "|  Irfan| 25|         1|  6000|\n",
      "+-------+---+----------+------+\n",
      "\n"
     ]
    }
   ],
   "source": [
    "# make 2 filters using |\n",
    "\n",
    "df_pyspark.filter((df_pyspark['Salary'] <= 5500) |\n",
    "                   (df_pyspark['Age'] <= 25)).show()"
   ]
  },
  {
   "cell_type": "code",
   "execution_count": 27,
   "id": "b89900cc",
   "metadata": {},
   "outputs": [
    {
     "name": "stdout",
     "output_type": "stream",
     "text": [
      "+-----+---+----------+------+\n",
      "| Name|Age|Experience|Salary|\n",
      "+-----+---+----------+------+\n",
      "|Ammar| 30|         6|  8500|\n",
      "|Irfan| 25|         1|  6000|\n",
      "|Fahmi| 27|         5|  7000|\n",
      "+-----+---+----------+------+\n",
      "\n"
     ]
    }
   ],
   "source": [
    "# make operation using NOT (~)\n",
    "\n",
    "df_pyspark.filter(~(df_pyspark['Salary'] <= 5500)).show()"
   ]
  }
 ],
 "metadata": {
  "kernelspec": {
   "display_name": "Python 3 (ipykernel)",
   "language": "python",
   "name": "python3"
  },
  "language_info": {
   "codemirror_mode": {
    "name": "ipython",
    "version": 3
   },
   "file_extension": ".py",
   "mimetype": "text/x-python",
   "name": "python",
   "nbconvert_exporter": "python",
   "pygments_lexer": "ipython3",
   "version": "3.10.9"
  }
 },
 "nbformat": 4,
 "nbformat_minor": 5
}
