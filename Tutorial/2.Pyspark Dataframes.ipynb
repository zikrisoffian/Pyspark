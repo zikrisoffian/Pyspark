{
 "cells": [
  {
   "cell_type": "markdown",
   "id": "4f4c8834",
   "metadata": {},
   "source": [
    "# Pyspark Dataframe Part 1 : Set Pyspark and Dataframe\n",
    "We will look into \n",
    "- pyspark dataframe\n",
    "- read the dataset\n",
    "- check data type of column (schema)\n",
    "- selecting column and indexing\n",
    "- check describe similir to pandas\n",
    "- add columns\n",
    "- drop columns\n"
   ]
  },
  {
   "cell_type": "markdown",
   "id": "d9c6b4bd",
   "metadata": {},
   "source": [
    "#### Set spark instances"
   ]
  },
  {
   "cell_type": "code",
   "execution_count": 3,
   "id": "d58677ca",
   "metadata": {},
   "outputs": [],
   "source": [
    "import pyspark \n",
    "from pyspark.sql import SparkSession\n",
    "spark = SparkSession.builder.appName('test01').getOrCreate()"
   ]
  },
  {
   "cell_type": "code",
   "execution_count": 7,
   "id": "d274aed5",
   "metadata": {},
   "outputs": [
    {
     "data": {
      "text/html": [
       "\n",
       "            <div>\n",
       "                <p><b>SparkSession - in-memory</b></p>\n",
       "                \n",
       "        <div>\n",
       "            <p><b>SparkContext</b></p>\n",
       "\n",
       "            <p><a href=\"http://DESKTOP-7OI8Q9R:4041\">Spark UI</a></p>\n",
       "\n",
       "            <dl>\n",
       "              <dt>Version</dt>\n",
       "                <dd><code>v3.5.0</code></dd>\n",
       "              <dt>Master</dt>\n",
       "                <dd><code>local[*]</code></dd>\n",
       "              <dt>AppName</dt>\n",
       "                <dd><code>test01</code></dd>\n",
       "            </dl>\n",
       "        </div>\n",
       "        \n",
       "            </div>\n",
       "        "
      ],
      "text/plain": [
       "<pyspark.sql.session.SparkSession at 0x1868fbbd660>"
      ]
     },
     "execution_count": 7,
     "metadata": {},
     "output_type": "execute_result"
    }
   ],
   "source": [
    "spark"
   ]
  },
  {
   "cell_type": "markdown",
   "id": "eb5dc258",
   "metadata": {},
   "source": [
    "#### Set dataset and print schema"
   ]
  },
  {
   "cell_type": "code",
   "execution_count": 6,
   "id": "1b171786",
   "metadata": {},
   "outputs": [
    {
     "name": "stdout",
     "output_type": "stream",
     "text": [
      "+-------+---+----------+\n",
      "|   Name|Age|Experience|\n",
      "+-------+---+----------+\n",
      "|  Zikri| 24|         1|\n",
      "|Zakhwan| 25|         1|\n",
      "|   Amir| 27|         2|\n",
      "|  Ammar| 30|         6|\n",
      "|  Haziq| 24|         2|\n",
      "|  Irfan| 25|         1|\n",
      "|  Fahmi| 27|         5|\n",
      "+-------+---+----------+\n",
      "\n"
     ]
    }
   ],
   "source": [
    "# read dataset\n",
    "df_pyspark = spark.read.option('header', 'true').csv('customer.csv')\n",
    "df_pyspark.show()"
   ]
  },
  {
   "cell_type": "code",
   "execution_count": 9,
   "id": "9a179f98",
   "metadata": {},
   "outputs": [
    {
     "name": "stdout",
     "output_type": "stream",
     "text": [
      "root\n",
      " |-- Name: string (nullable = true)\n",
      " |-- Age: string (nullable = true)\n",
      " |-- Experience: string (nullable = true)\n",
      "\n"
     ]
    }
   ],
   "source": [
    "# check schema\n",
    "# notice that age and experince should be in int data type\n",
    "df_pyspark.printSchema()"
   ]
  },
  {
   "cell_type": "code",
   "execution_count": null,
   "id": "25c9819d",
   "metadata": {},
   "outputs": [],
   "source": [
    "# read dataset and add schema"
   ]
  },
  {
   "cell_type": "code",
   "execution_count": 10,
   "id": "69a7623f",
   "metadata": {},
   "outputs": [
    {
     "name": "stdout",
     "output_type": "stream",
     "text": [
      "+-------+---+----------+\n",
      "|   Name|Age|Experience|\n",
      "+-------+---+----------+\n",
      "|  Zikri| 24|         1|\n",
      "|Zakhwan| 25|         1|\n",
      "|   Amir| 27|         2|\n",
      "|  Ammar| 30|         6|\n",
      "|  Haziq| 24|         2|\n",
      "|  Irfan| 25|         1|\n",
      "|  Fahmi| 27|         5|\n",
      "+-------+---+----------+\n",
      "\n"
     ]
    }
   ],
   "source": [
    "df_pyspark = spark.read.option('header', 'true').csv('customer.csv', inferSchema = True)\n",
    "df_pyspark.show()"
   ]
  },
  {
   "cell_type": "code",
   "execution_count": 11,
   "id": "3969b3f9",
   "metadata": {},
   "outputs": [
    {
     "name": "stdout",
     "output_type": "stream",
     "text": [
      "root\n",
      " |-- Name: string (nullable = true)\n",
      " |-- Age: integer (nullable = true)\n",
      " |-- Experience: integer (nullable = true)\n",
      "\n"
     ]
    }
   ],
   "source": [
    "# now we get the true schema\n",
    "# name as string\n",
    "# age and experince as integer\n",
    "df_pyspark.printSchema()"
   ]
  },
  {
   "cell_type": "code",
   "execution_count": 16,
   "id": "6c248726",
   "metadata": {},
   "outputs": [
    {
     "name": "stdout",
     "output_type": "stream",
     "text": [
      "+-------+---+----------+\n",
      "|   Name|Age|Experience|\n",
      "+-------+---+----------+\n",
      "|  Zikri| 24|         1|\n",
      "|Zakhwan| 25|         1|\n",
      "|   Amir| 27|         2|\n",
      "|  Ammar| 30|         6|\n",
      "|  Haziq| 24|         2|\n",
      "|  Irfan| 25|         1|\n",
      "|  Fahmi| 27|         5|\n",
      "+-------+---+----------+\n",
      "\n"
     ]
    }
   ],
   "source": [
    "# another way to read csv\n",
    "df_pyspark = spark.read.csv('customer.csv', header = True, inferSchema = True)\n",
    "df_pyspark.show()"
   ]
  },
  {
   "cell_type": "code",
   "execution_count": 17,
   "id": "810fb329",
   "metadata": {},
   "outputs": [
    {
     "name": "stdout",
     "output_type": "stream",
     "text": [
      "root\n",
      " |-- Name: string (nullable = true)\n",
      " |-- Age: integer (nullable = true)\n",
      " |-- Experience: integer (nullable = true)\n",
      "\n"
     ]
    }
   ],
   "source": [
    "df_pyspark.printSchema()"
   ]
  },
  {
   "cell_type": "markdown",
   "id": "6d7aad85",
   "metadata": {},
   "source": [
    "#### Basic operation of dataframe"
   ]
  },
  {
   "cell_type": "code",
   "execution_count": 18,
   "id": "ee0d728f",
   "metadata": {
    "scrolled": true
   },
   "outputs": [
    {
     "data": {
      "text/plain": [
       "pyspark.sql.dataframe.DataFrame"
      ]
     },
     "execution_count": 18,
     "metadata": {},
     "output_type": "execute_result"
    }
   ],
   "source": [
    "# type of data\n",
    "# type of df_pyspark is dataframe (pyspark dataframe)\n",
    "\n",
    "type(df_pyspark)"
   ]
  },
  {
   "cell_type": "code",
   "execution_count": 19,
   "id": "6e0272f9",
   "metadata": {},
   "outputs": [
    {
     "data": {
      "text/plain": [
       "['Name', 'Age', 'Experience']"
      ]
     },
     "execution_count": 19,
     "metadata": {},
     "output_type": "execute_result"
    }
   ],
   "source": [
    "# get the columns of df\n",
    "\n",
    "df_pyspark.columns"
   ]
  },
  {
   "cell_type": "code",
   "execution_count": 21,
   "id": "2cc23ba3",
   "metadata": {},
   "outputs": [
    {
     "data": {
      "text/plain": [
       "[Row(Name='Zikri', Age=24, Experience=1),\n",
       " Row(Name='Zakhwan', Age=25, Experience=1),\n",
       " Row(Name='Amir', Age=27, Experience=2)]"
      ]
     },
     "execution_count": 21,
     "metadata": {},
     "output_type": "execute_result"
    }
   ],
   "source": [
    "# get the head of df\n",
    "\n",
    "df_pyspark.head(3)"
   ]
  },
  {
   "cell_type": "code",
   "execution_count": 22,
   "id": "f8e51bec",
   "metadata": {},
   "outputs": [
    {
     "data": {
      "text/plain": [
       "[Row(Name='Haziq', Age=24, Experience=2),\n",
       " Row(Name='Irfan', Age=25, Experience=1),\n",
       " Row(Name='Fahmi', Age=27, Experience=5)]"
      ]
     },
     "execution_count": 22,
     "metadata": {},
     "output_type": "execute_result"
    }
   ],
   "source": [
    "# get tge tail of df\n",
    "\n",
    "df_pyspark.tail(3)"
   ]
  },
  {
   "cell_type": "code",
   "execution_count": 31,
   "id": "a05dde20",
   "metadata": {},
   "outputs": [
    {
     "name": "stdout",
     "output_type": "stream",
     "text": [
      "+-------+\n",
      "|   Name|\n",
      "+-------+\n",
      "|  Zikri|\n",
      "|Zakhwan|\n",
      "|   Amir|\n",
      "|  Ammar|\n",
      "|  Haziq|\n",
      "|  Irfan|\n",
      "|  Fahmi|\n",
      "+-------+\n",
      "\n",
      "+---+\n",
      "|Age|\n",
      "+---+\n",
      "| 24|\n",
      "| 25|\n",
      "| 27|\n",
      "| 30|\n",
      "| 24|\n",
      "| 25|\n",
      "| 27|\n",
      "+---+\n",
      "\n"
     ]
    }
   ],
   "source": [
    "# select the column\n",
    "\n",
    "df_pyspark.select('Name').show()\n",
    "df_pyspark.select('Age').show()"
   ]
  },
  {
   "cell_type": "code",
   "execution_count": 29,
   "id": "eda101b3",
   "metadata": {},
   "outputs": [
    {
     "name": "stdout",
     "output_type": "stream",
     "text": [
      "+-------+---+\n",
      "|   Name|Age|\n",
      "+-------+---+\n",
      "|  Zikri| 24|\n",
      "|Zakhwan| 25|\n",
      "|   Amir| 27|\n",
      "|  Ammar| 30|\n",
      "|  Haziq| 24|\n",
      "|  Irfan| 25|\n",
      "|  Fahmi| 27|\n",
      "+-------+---+\n",
      "\n"
     ]
    }
   ],
   "source": [
    "# select multiple columns\n",
    "\n",
    "df_pyspark.select(['Name','Age']).show()"
   ]
  },
  {
   "cell_type": "code",
   "execution_count": 33,
   "id": "7ddb6310",
   "metadata": {},
   "outputs": [
    {
     "data": {
      "text/plain": [
       "[('Name', 'string'), ('Age', 'int'), ('Experience', 'int')]"
      ]
     },
     "execution_count": 33,
     "metadata": {},
     "output_type": "execute_result"
    }
   ],
   "source": [
    "# get the datatype of all columns\n",
    "\n",
    "df_pyspark.dtypes"
   ]
  },
  {
   "cell_type": "code",
   "execution_count": 36,
   "id": "f46fb147",
   "metadata": {},
   "outputs": [
    {
     "name": "stdout",
     "output_type": "stream",
     "text": [
      "+-------+-----+-----------------+------------------+\n",
      "|summary| Name|              Age|        Experience|\n",
      "+-------+-----+-----------------+------------------+\n",
      "|  count|    7|                7|                 7|\n",
      "|   mean| NULL|             26.0|2.5714285714285716|\n",
      "| stddev| NULL|2.160246899469287|2.0701966780270626|\n",
      "|    min| Amir|               24|                 1|\n",
      "|    max|Zikri|               30|                 6|\n",
      "+-------+-----+-----------------+------------------+\n",
      "\n"
     ]
    }
   ],
   "source": [
    "# get the describe option\n",
    "# get mean min max stddev \n",
    "\n",
    "df_pyspark.describe().show()"
   ]
  },
  {
   "cell_type": "code",
   "execution_count": 42,
   "id": "d9cba138",
   "metadata": {},
   "outputs": [
    {
     "name": "stdout",
     "output_type": "stream",
     "text": [
      "+-------+---+----------+------------------------+\n",
      "|   Name|Age|Experience|Experience After 2 Years|\n",
      "+-------+---+----------+------------------------+\n",
      "|  Zikri| 24|         1|                       3|\n",
      "|Zakhwan| 25|         1|                       3|\n",
      "|   Amir| 27|         2|                       4|\n",
      "|  Ammar| 30|         6|                       8|\n",
      "|  Haziq| 24|         2|                       4|\n",
      "|  Irfan| 25|         1|                       3|\n",
      "|  Fahmi| 27|         5|                       7|\n",
      "+-------+---+----------+------------------------+\n",
      "\n"
     ]
    }
   ],
   "source": [
    "# add columns in the dataframe\n",
    "\n",
    "df_pyspark = df_pyspark.withColumn('Experience After 2 Years', (df_pyspark['Experience'] + 2))\n",
    "df_pyspark.show()"
   ]
  },
  {
   "cell_type": "code",
   "execution_count": 43,
   "id": "b3388526",
   "metadata": {},
   "outputs": [
    {
     "name": "stdout",
     "output_type": "stream",
     "text": [
      "+-------+---+----------+\n",
      "|   Name|Age|Experience|\n",
      "+-------+---+----------+\n",
      "|  Zikri| 24|         1|\n",
      "|Zakhwan| 25|         1|\n",
      "|   Amir| 27|         2|\n",
      "|  Ammar| 30|         6|\n",
      "|  Haziq| 24|         2|\n",
      "|  Irfan| 25|         1|\n",
      "|  Fahmi| 27|         5|\n",
      "+-------+---+----------+\n",
      "\n"
     ]
    }
   ],
   "source": [
    "# drop the columns from dataframe\n",
    "\n",
    "df_pyspark = df_pyspark.drop('Experience After 2 Years')\n",
    "df_pyspark.show()"
   ]
  },
  {
   "cell_type": "code",
   "execution_count": 45,
   "id": "cdee4fcb",
   "metadata": {},
   "outputs": [
    {
     "name": "stdout",
     "output_type": "stream",
     "text": [
      "+-------------+---+----------+\n",
      "|Customer Name|Age|Experience|\n",
      "+-------------+---+----------+\n",
      "|        Zikri| 24|         1|\n",
      "|      Zakhwan| 25|         1|\n",
      "|         Amir| 27|         2|\n",
      "|        Ammar| 30|         6|\n",
      "|        Haziq| 24|         2|\n",
      "|        Irfan| 25|         1|\n",
      "|        Fahmi| 27|         5|\n",
      "+-------------+---+----------+\n",
      "\n"
     ]
    }
   ],
   "source": [
    "# Rename of datagrame\n",
    "df_pyspark = df_pyspark.withColumnRenamed('Name', 'Customer Name')\n",
    "df_pyspark.show()"
   ]
  }
 ],
 "metadata": {
  "kernelspec": {
   "display_name": "Python 3 (ipykernel)",
   "language": "python",
   "name": "python3"
  },
  "language_info": {
   "codemirror_mode": {
    "name": "ipython",
    "version": 3
   },
   "file_extension": ".py",
   "mimetype": "text/x-python",
   "name": "python",
   "nbconvert_exporter": "python",
   "pygments_lexer": "ipython3",
   "version": "3.10.9"
  }
 },
 "nbformat": 4,
 "nbformat_minor": 5
}
