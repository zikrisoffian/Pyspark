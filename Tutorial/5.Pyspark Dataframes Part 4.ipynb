{
 "cells": [
  {
   "cell_type": "markdown",
   "id": "7c52aa9a",
   "metadata": {},
   "source": [
    "# Pyspark Dataframe Part 4 : Groupby and Aggregate Function\n",
    "\n",
    "- this is important for data pre processing"
   ]
  },
  {
   "cell_type": "markdown",
   "id": "006c3761",
   "metadata": {},
   "source": [
    "#### Set spark instances"
   ]
  },
  {
   "cell_type": "code",
   "execution_count": 1,
   "id": "1626edf9",
   "metadata": {},
   "outputs": [],
   "source": [
    "import pyspark \n",
    "from pyspark.sql import SparkSession\n",
    "spark = SparkSession.builder.appName('test01').getOrCreate()"
   ]
  },
  {
   "cell_type": "code",
   "execution_count": 2,
   "id": "3397d317",
   "metadata": {},
   "outputs": [
    {
     "data": {
      "text/html": [
       "\n",
       "            <div>\n",
       "                <p><b>SparkSession - in-memory</b></p>\n",
       "                \n",
       "        <div>\n",
       "            <p><b>SparkContext</b></p>\n",
       "\n",
       "            <p><a href=\"http://DESKTOP-7OI8Q9R:4042\">Spark UI</a></p>\n",
       "\n",
       "            <dl>\n",
       "              <dt>Version</dt>\n",
       "                <dd><code>v3.5.0</code></dd>\n",
       "              <dt>Master</dt>\n",
       "                <dd><code>local[*]</code></dd>\n",
       "              <dt>AppName</dt>\n",
       "                <dd><code>test01</code></dd>\n",
       "            </dl>\n",
       "        </div>\n",
       "        \n",
       "            </div>\n",
       "        "
      ],
      "text/plain": [
       "<pyspark.sql.session.SparkSession at 0x23bc064d660>"
      ]
     },
     "execution_count": 2,
     "metadata": {},
     "output_type": "execute_result"
    }
   ],
   "source": [
    "spark"
   ]
  },
  {
   "cell_type": "markdown",
   "id": "783a9bb7",
   "metadata": {},
   "source": [
    "#### Set dataset "
   ]
  },
  {
   "cell_type": "code",
   "execution_count": 3,
   "id": "db49e406",
   "metadata": {},
   "outputs": [
    {
     "name": "stdout",
     "output_type": "stream",
     "text": [
      "+-------+----+----------+------+----------------+\n",
      "|   Name| Age|Experience|Salary|            Role|\n",
      "+-------+----+----------+------+----------------+\n",
      "|  Zikri|  24|         1|  4500|        Helpdesk|\n",
      "|Zakhwan|  25|         1|  4700|      Accounting|\n",
      "|   Amir|  27|         2|  5000|        Helpdesk|\n",
      "|  Ammar|  30|         6|  8500|Customer Service|\n",
      "|  Haziq|  24|         2|  4700|Customer Service|\n",
      "|  Irfan|  25|         1|  6000|         Payroll|\n",
      "|  Fahmi|  27|         5|  7000|         Payroll|\n",
      "|  Majid|  27|      NULL|  5500|        Helpdesk|\n",
      "|   NULL|  25|         2|  5000|        Engineer|\n",
      "|    Ali|  25|         2|  NULL|        Engineer|\n",
      "|    Abu|NULL|      NULL|  NULL|            NULL|\n",
      "+-------+----+----------+------+----------------+\n",
      "\n"
     ]
    }
   ],
   "source": [
    "# read dataset\n",
    "# notice the NULL value\n",
    "\n",
    "df_pyspark = spark.read.csv('customer.csv', header =True, inferSchema = True)\n",
    "df_pyspark.show()"
   ]
  },
  {
   "cell_type": "markdown",
   "id": "7f8dbd84",
   "metadata": {},
   "source": [
    "#### Delete NA"
   ]
  },
  {
   "cell_type": "code",
   "execution_count": 22,
   "id": "e69c70ae",
   "metadata": {},
   "outputs": [
    {
     "name": "stdout",
     "output_type": "stream",
     "text": [
      "+-------+---+----------+------+----------------+\n",
      "|   Name|Age|Experience|Salary|            Role|\n",
      "+-------+---+----------+------+----------------+\n",
      "|  Zikri| 24|         1|  4500|        Helpdesk|\n",
      "|Zakhwan| 25|         1|  4700|      Accounting|\n",
      "|   Amir| 27|         2|  5000|        Helpdesk|\n",
      "|  Ammar| 30|         6|  8500|Customer Service|\n",
      "|  Haziq| 24|         2|  4700|Customer Service|\n",
      "|  Irfan| 25|         1|  6000|         Payroll|\n",
      "|  Fahmi| 27|         5|  7000|         Payroll|\n",
      "+-------+---+----------+------+----------------+\n",
      "\n"
     ]
    }
   ],
   "source": [
    "df_pyspark = df_pyspark.na.drop()\n",
    "df_pyspark.show()"
   ]
  },
  {
   "cell_type": "markdown",
   "id": "e7534f2f",
   "metadata": {},
   "source": [
    "#### groupBy Function"
   ]
  },
  {
   "cell_type": "code",
   "execution_count": 23,
   "id": "252e2fc6",
   "metadata": {},
   "outputs": [
    {
     "name": "stdout",
     "output_type": "stream",
     "text": [
      "root\n",
      " |-- Name: string (nullable = true)\n",
      " |-- Age: integer (nullable = true)\n",
      " |-- Experience: integer (nullable = true)\n",
      " |-- Salary: integer (nullable = true)\n",
      " |-- Role: string (nullable = true)\n",
      "\n"
     ]
    }
   ],
   "source": [
    "# see the schema of dataframe\n",
    "\n",
    "df_pyspark.printSchema()"
   ]
  },
  {
   "cell_type": "code",
   "execution_count": 24,
   "id": "07d670dd",
   "metadata": {},
   "outputs": [
    {
     "name": "stdout",
     "output_type": "stream",
     "text": [
      "+-------+-----------+\n",
      "|   Name|sum(Salary)|\n",
      "+-------+-----------+\n",
      "|Zakhwan|       4700|\n",
      "|  Zikri|       4500|\n",
      "|   Amir|       5000|\n",
      "|  Irfan|       6000|\n",
      "|  Fahmi|       7000|\n",
      "|  Ammar|       8500|\n",
      "|  Haziq|       4700|\n",
      "+-------+-----------+\n",
      "\n"
     ]
    }
   ],
   "source": [
    "# groupBy Name, show the sum of salary\n",
    "# this make sense when we got the same name in the rows\n",
    "\n",
    "df_pyspark.groupBy('Name').sum('Salary').show()"
   ]
  },
  {
   "cell_type": "code",
   "execution_count": 25,
   "id": "01cd2abf",
   "metadata": {
    "scrolled": true
   },
   "outputs": [
    {
     "name": "stdout",
     "output_type": "stream",
     "text": [
      "+----------------+-----------+\n",
      "|            Role|avg(Salary)|\n",
      "+----------------+-----------+\n",
      "|      Accounting|     4700.0|\n",
      "|         Payroll|     6500.0|\n",
      "|Customer Service|     6600.0|\n",
      "|        Helpdesk|     4750.0|\n",
      "+----------------+-----------+\n",
      "\n"
     ]
    }
   ],
   "source": [
    "# groupBy role to find average salary\n",
    "\n",
    "df_pyspark.groupBy('Role').avg('Salary').show()"
   ]
  },
  {
   "cell_type": "code",
   "execution_count": 29,
   "id": "949ff0e4",
   "metadata": {},
   "outputs": [
    {
     "name": "stdout",
     "output_type": "stream",
     "text": [
      "+----------------+-----+\n",
      "|            Role|count|\n",
      "+----------------+-----+\n",
      "|      Accounting|    1|\n",
      "|         Payroll|    2|\n",
      "|Customer Service|    2|\n",
      "|        Helpdesk|    2|\n",
      "+----------------+-----+\n",
      "\n"
     ]
    }
   ],
   "source": [
    "# groupBy role to find count of values\n",
    "\n",
    "df_pyspark.groupBy('Role').count().show()"
   ]
  },
  {
   "cell_type": "code",
   "execution_count": 26,
   "id": "d7968b12",
   "metadata": {},
   "outputs": [
    {
     "name": "stdout",
     "output_type": "stream",
     "text": [
      "+---+-----------+\n",
      "|Age|avg(Salary)|\n",
      "+---+-----------+\n",
      "| 27|     6000.0|\n",
      "| 25|     5350.0|\n",
      "| 24|     4600.0|\n",
      "| 30|     8500.0|\n",
      "+---+-----------+\n",
      "\n"
     ]
    }
   ],
   "source": [
    "# groupBy Age to find average salary\n",
    "\n",
    "df_pyspark.groupBy('Age').avg('Salary').show()"
   ]
  },
  {
   "cell_type": "code",
   "execution_count": 30,
   "id": "050e1d6e",
   "metadata": {},
   "outputs": [
    {
     "name": "stdout",
     "output_type": "stream",
     "text": [
      "+---+-----+\n",
      "|Age|count|\n",
      "+---+-----+\n",
      "| 27|    2|\n",
      "| 25|    2|\n",
      "| 24|    2|\n",
      "| 30|    1|\n",
      "+---+-----+\n",
      "\n"
     ]
    }
   ],
   "source": [
    "# groupBy Age to find average salary\n",
    "\n",
    "df_pyspark.groupBy('Age').count().show()"
   ]
  },
  {
   "cell_type": "code",
   "execution_count": 47,
   "id": "4e8d6756",
   "metadata": {},
   "outputs": [
    {
     "name": "stdout",
     "output_type": "stream",
     "text": [
      "+----------------+-----------+\n",
      "|            Role|max(Salary)|\n",
      "+----------------+-----------+\n",
      "|      Accounting|       4700|\n",
      "|         Payroll|       7000|\n",
      "|Customer Service|       8500|\n",
      "|        Helpdesk|       5000|\n",
      "+----------------+-----------+\n",
      "\n",
      "+----------------+-----------+\n",
      "|            Role|min(Salary)|\n",
      "+----------------+-----------+\n",
      "|      Accounting|       4700|\n",
      "|         Payroll|       6000|\n",
      "|Customer Service|       4700|\n",
      "|        Helpdesk|       4500|\n",
      "+----------------+-----------+\n",
      "\n",
      "+----------------+-----------+\n",
      "|            Role|avg(Salary)|\n",
      "+----------------+-----------+\n",
      "|      Accounting|     4700.0|\n",
      "|         Payroll|     6500.0|\n",
      "|Customer Service|     6600.0|\n",
      "|        Helpdesk|     4750.0|\n",
      "+----------------+-----------+\n",
      "\n"
     ]
    }
   ],
   "source": [
    "# groupBy Role, show the mean, max and min of salary\n",
    "# this make sense when got multiple rows of the same role\n",
    "\n",
    "df_pyspark.groupBy('Role').max('Salary').show()\n",
    "\n",
    "df_pyspark.groupBy('Role').min('Salary').show()\n",
    "\n",
    "df_pyspark.groupBy('Role').avg('Salary').show()"
   ]
  },
  {
   "cell_type": "markdown",
   "id": "0711e336",
   "metadata": {},
   "source": [
    "#### agg (Aggregate Function)"
   ]
  },
  {
   "cell_type": "code",
   "execution_count": 35,
   "id": "42846739",
   "metadata": {},
   "outputs": [
    {
     "name": "stdout",
     "output_type": "stream",
     "text": [
      "+-----------+\n",
      "|sum(Salary)|\n",
      "+-----------+\n",
      "|      40400|\n",
      "+-----------+\n",
      "\n"
     ]
    }
   ],
   "source": [
    "# get the sum of all salaries\n",
    "\n",
    "df_pyspark.agg({'Salary':'sum'}).show()"
   ]
  },
  {
   "cell_type": "code",
   "execution_count": 36,
   "id": "beeb465b",
   "metadata": {},
   "outputs": [
    {
     "name": "stdout",
     "output_type": "stream",
     "text": [
      "+-----------------+\n",
      "|      avg(Salary)|\n",
      "+-----------------+\n",
      "|5771.428571428572|\n",
      "+-----------------+\n",
      "\n"
     ]
    }
   ],
   "source": [
    "# get the average of all salaries\n",
    "\n",
    "df_pyspark.agg({'Salary':'avg'}).show()"
   ]
  },
  {
   "cell_type": "code",
   "execution_count": 39,
   "id": "a0fa3b20",
   "metadata": {},
   "outputs": [
    {
     "name": "stdout",
     "output_type": "stream",
     "text": [
      "+-----------+\n",
      "|max(Salary)|\n",
      "+-----------+\n",
      "|       8500|\n",
      "+-----------+\n",
      "\n"
     ]
    }
   ],
   "source": [
    "# get the max of all salaries\n",
    "\n",
    "df_pyspark.agg({'Salary':'max'}).show()"
   ]
  },
  {
   "cell_type": "code",
   "execution_count": 40,
   "id": "f9e28b1a",
   "metadata": {},
   "outputs": [
    {
     "name": "stdout",
     "output_type": "stream",
     "text": [
      "+-----------+\n",
      "|min(Salary)|\n",
      "+-----------+\n",
      "|       4500|\n",
      "+-----------+\n",
      "\n"
     ]
    }
   ],
   "source": [
    "# get the min of all salaries\n",
    "\n",
    "df_pyspark.agg({'Salary':'min'}).show()"
   ]
  }
 ],
 "metadata": {
  "kernelspec": {
   "display_name": "Python 3 (ipykernel)",
   "language": "python",
   "name": "python3"
  },
  "language_info": {
   "codemirror_mode": {
    "name": "ipython",
    "version": 3
   },
   "file_extension": ".py",
   "mimetype": "text/x-python",
   "name": "python",
   "nbconvert_exporter": "python",
   "pygments_lexer": "ipython3",
   "version": "3.10.9"
  }
 },
 "nbformat": 4,
 "nbformat_minor": 5
}
