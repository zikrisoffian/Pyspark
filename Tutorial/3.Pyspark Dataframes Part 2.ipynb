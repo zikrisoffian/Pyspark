{
 "cells": [
  {
   "cell_type": "markdown",
   "id": "7c52aa9a",
   "metadata": {},
   "source": [
    "# Pyspark Dataframe Part 2 : Handling Missing Values\n",
    "We will look into \n",
    "- dropping columns\n",
    "- dropping rows \n",
    "- various parameters in dropping fucntionalities\n",
    "- handling missing values by mean, median or mode\n"
   ]
  },
  {
   "cell_type": "markdown",
   "id": "006c3761",
   "metadata": {},
   "source": [
    "#### Set spark instances"
   ]
  },
  {
   "cell_type": "code",
   "execution_count": 1,
   "id": "1626edf9",
   "metadata": {},
   "outputs": [],
   "source": [
    "import pyspark \n",
    "from pyspark.sql import SparkSession\n",
    "spark = SparkSession.builder.appName('test01').getOrCreate()"
   ]
  },
  {
   "cell_type": "code",
   "execution_count": 2,
   "id": "3397d317",
   "metadata": {},
   "outputs": [
    {
     "data": {
      "text/html": [
       "\n",
       "            <div>\n",
       "                <p><b>SparkSession - in-memory</b></p>\n",
       "                \n",
       "        <div>\n",
       "            <p><b>SparkContext</b></p>\n",
       "\n",
       "            <p><a href=\"http://DESKTOP-7OI8Q9R:4042\">Spark UI</a></p>\n",
       "\n",
       "            <dl>\n",
       "              <dt>Version</dt>\n",
       "                <dd><code>v3.5.0</code></dd>\n",
       "              <dt>Master</dt>\n",
       "                <dd><code>local[*]</code></dd>\n",
       "              <dt>AppName</dt>\n",
       "                <dd><code>test01</code></dd>\n",
       "            </dl>\n",
       "        </div>\n",
       "        \n",
       "            </div>\n",
       "        "
      ],
      "text/plain": [
       "<pyspark.sql.session.SparkSession at 0x23bc064d660>"
      ]
     },
     "execution_count": 2,
     "metadata": {},
     "output_type": "execute_result"
    }
   ],
   "source": [
    "spark"
   ]
  },
  {
   "cell_type": "markdown",
   "id": "783a9bb7",
   "metadata": {},
   "source": [
    "#### Set dataset "
   ]
  },
  {
   "cell_type": "code",
   "execution_count": 63,
   "id": "407b6e9a",
   "metadata": {},
   "outputs": [
    {
     "name": "stdout",
     "output_type": "stream",
     "text": [
      "+-------+----+----------+------+\n",
      "|   Name| Age|Experience|Salary|\n",
      "+-------+----+----------+------+\n",
      "|  Zikri|  24|         1|  4500|\n",
      "|Zakhwan|  25|         1|  4700|\n",
      "|   Amir|  27|         2|  5000|\n",
      "|  Ammar|  30|         6|  8500|\n",
      "|  Haziq|  24|         2|  4700|\n",
      "|  Irfan|  25|         1|  6000|\n",
      "|  Fahmi|  27|         5|  7000|\n",
      "|  Majid|  27|      NULL|  5500|\n",
      "|   NULL|  25|         2|  5000|\n",
      "|    Ali|  25|         2|  NULL|\n",
      "|    Abu|NULL|      NULL|  NULL|\n",
      "+-------+----+----------+------+\n",
      "\n"
     ]
    }
   ],
   "source": [
    "# read dataset\n",
    "# notice the NULL value\n",
    "\n",
    "df_pyspark = spark.read.csv('customer.csv', header =True, inferSchema = True)\n",
    "df_pyspark.show()"
   ]
  },
  {
   "cell_type": "markdown",
   "id": "45cb4a53",
   "metadata": {},
   "source": [
    "#### Delete column"
   ]
  },
  {
   "cell_type": "code",
   "execution_count": 64,
   "id": "fc61837f",
   "metadata": {
    "scrolled": true
   },
   "outputs": [
    {
     "name": "stdout",
     "output_type": "stream",
     "text": [
      "+----+----------+------+\n",
      "| Age|Experience|Salary|\n",
      "+----+----------+------+\n",
      "|  24|         1|  4500|\n",
      "|  25|         1|  4700|\n",
      "|  27|         2|  5000|\n",
      "|  30|         6|  8500|\n",
      "|  24|         2|  4700|\n",
      "|  25|         1|  6000|\n",
      "|  27|         5|  7000|\n",
      "|  27|      NULL|  5500|\n",
      "|  25|         2|  5000|\n",
      "|  25|         2|  NULL|\n",
      "|NULL|      NULL|  NULL|\n",
      "+----+----------+------+\n",
      "\n"
     ]
    }
   ],
   "source": [
    "# drop a column \n",
    "\n",
    "df_pyspark.drop('Name').show()"
   ]
  },
  {
   "cell_type": "markdown",
   "id": "3f9abc12",
   "metadata": {},
   "source": [
    "#### Delete row"
   ]
  },
  {
   "cell_type": "code",
   "execution_count": 65,
   "id": "a37f0362",
   "metadata": {
    "scrolled": true
   },
   "outputs": [
    {
     "name": "stdout",
     "output_type": "stream",
     "text": [
      "+-------+---+----------+------+\n",
      "|   Name|Age|Experience|Salary|\n",
      "+-------+---+----------+------+\n",
      "|  Zikri| 24|         1|  4500|\n",
      "|Zakhwan| 25|         1|  4700|\n",
      "|   Amir| 27|         2|  5000|\n",
      "|  Ammar| 30|         6|  8500|\n",
      "|  Haziq| 24|         2|  4700|\n",
      "|  Irfan| 25|         1|  6000|\n",
      "|  Fahmi| 27|         5|  7000|\n",
      "+-------+---+----------+------+\n",
      "\n"
     ]
    }
   ],
   "source": [
    "# drop a NULL row\n",
    "# If there is a NULL value, the row will be deleted\n",
    "\n",
    "df_pyspark.na.drop().show()"
   ]
  },
  {
   "cell_type": "code",
   "execution_count": 66,
   "id": "c6995503",
   "metadata": {},
   "outputs": [
    {
     "name": "stdout",
     "output_type": "stream",
     "text": [
      "+-------+----+----------+------+\n",
      "|   Name| Age|Experience|Salary|\n",
      "+-------+----+----------+------+\n",
      "|  Zikri|  24|         1|  4500|\n",
      "|Zakhwan|  25|         1|  4700|\n",
      "|   Amir|  27|         2|  5000|\n",
      "|  Ammar|  30|         6|  8500|\n",
      "|  Haziq|  24|         2|  4700|\n",
      "|  Irfan|  25|         1|  6000|\n",
      "|  Fahmi|  27|         5|  7000|\n",
      "|  Majid|  27|      NULL|  5500|\n",
      "|   NULL|  25|         2|  5000|\n",
      "|    Ali|  25|         2|  NULL|\n",
      "|    Abu|NULL|      NULL|  NULL|\n",
      "+-------+----+----------+------+\n",
      "\n"
     ]
    }
   ],
   "source": [
    "# drop a NULL row - how\n",
    "# delete the row if all columns are null\n",
    "\n",
    "df_pyspark.na.drop(how = 'all').show()"
   ]
  },
  {
   "cell_type": "code",
   "execution_count": 67,
   "id": "5104f11a",
   "metadata": {},
   "outputs": [
    {
     "name": "stdout",
     "output_type": "stream",
     "text": [
      "+-------+---+----------+------+\n",
      "|   Name|Age|Experience|Salary|\n",
      "+-------+---+----------+------+\n",
      "|  Zikri| 24|         1|  4500|\n",
      "|Zakhwan| 25|         1|  4700|\n",
      "|   Amir| 27|         2|  5000|\n",
      "|  Ammar| 30|         6|  8500|\n",
      "|  Haziq| 24|         2|  4700|\n",
      "|  Irfan| 25|         1|  6000|\n",
      "|  Fahmi| 27|         5|  7000|\n",
      "+-------+---+----------+------+\n",
      "\n"
     ]
    }
   ],
   "source": [
    "# drop a NULL row - how\n",
    "# delete the row if any columns are null\n",
    "\n",
    "df_pyspark.na.drop(how = 'any').show()"
   ]
  },
  {
   "cell_type": "code",
   "execution_count": 68,
   "id": "962e8489",
   "metadata": {},
   "outputs": [
    {
     "name": "stdout",
     "output_type": "stream",
     "text": [
      "+-------+---+----------+------+\n",
      "|   Name|Age|Experience|Salary|\n",
      "+-------+---+----------+------+\n",
      "|  Zikri| 24|         1|  4500|\n",
      "|Zakhwan| 25|         1|  4700|\n",
      "|   Amir| 27|         2|  5000|\n",
      "|  Ammar| 30|         6|  8500|\n",
      "|  Haziq| 24|         2|  4700|\n",
      "|  Irfan| 25|         1|  6000|\n",
      "|  Fahmi| 27|         5|  7000|\n",
      "|  Majid| 27|      NULL|  5500|\n",
      "|   NULL| 25|         2|  5000|\n",
      "|    Ali| 25|         2|  NULL|\n",
      "+-------+---+----------+------+\n",
      "\n"
     ]
    }
   ],
   "source": [
    "# drop a NULL row - threshold\n",
    "# set as 2 -> at least two non null value must be shown\n",
    "# if the null value is more than 2 we omit those rows\n",
    "\n",
    "df_pyspark.na.drop(how = 'any', thresh = 2).show()"
   ]
  },
  {
   "cell_type": "code",
   "execution_count": 69,
   "id": "4f7dfb7e",
   "metadata": {},
   "outputs": [
    {
     "name": "stdout",
     "output_type": "stream",
     "text": [
      "+-------+---+----------+------+\n",
      "|   Name|Age|Experience|Salary|\n",
      "+-------+---+----------+------+\n",
      "|  Zikri| 24|         1|  4500|\n",
      "|Zakhwan| 25|         1|  4700|\n",
      "|   Amir| 27|         2|  5000|\n",
      "|  Ammar| 30|         6|  8500|\n",
      "|  Haziq| 24|         2|  4700|\n",
      "|  Irfan| 25|         1|  6000|\n",
      "|  Fahmi| 27|         5|  7000|\n",
      "|   NULL| 25|         2|  5000|\n",
      "|    Ali| 25|         2|  NULL|\n",
      "+-------+---+----------+------+\n",
      "\n"
     ]
    }
   ],
   "source": [
    "# drop a NULL row - subset\n",
    "# set the column that must not contain NULL value\n",
    "\n",
    "df_pyspark.na.drop(how = 'any', subset = ['Experience']).show()"
   ]
  },
  {
   "cell_type": "markdown",
   "id": "c8225dbb",
   "metadata": {},
   "source": [
    "#### Fill missing data"
   ]
  },
  {
   "cell_type": "code",
   "execution_count": 70,
   "id": "b45c40cd",
   "metadata": {},
   "outputs": [
    {
     "name": "stdout",
     "output_type": "stream",
     "text": [
      "+--------------+----+----------+------+\n",
      "|          Name| Age|Experience|Salary|\n",
      "+--------------+----+----------+------+\n",
      "|         Zikri|  24|         1|  4500|\n",
      "|       Zakhwan|  25|         1|  4700|\n",
      "|          Amir|  27|         2|  5000|\n",
      "|         Ammar|  30|         6|  8500|\n",
      "|         Haziq|  24|         2|  4700|\n",
      "|         Irfan|  25|         1|  6000|\n",
      "|         Fahmi|  27|         5|  7000|\n",
      "|         Majid|  27|      NULL|  5500|\n",
      "|Missing Values|  25|         2|  5000|\n",
      "|           Ali|  25|         2|  NULL|\n",
      "|           Abu|NULL|      NULL|  NULL|\n",
      "+--------------+----+----------+------+\n",
      "\n"
     ]
    }
   ],
   "source": [
    "# fill missing value\n",
    "\n",
    "df_pyspark.na.fill('Missing Values').show()"
   ]
  },
  {
   "cell_type": "code",
   "execution_count": 71,
   "id": "f4910a3d",
   "metadata": {},
   "outputs": [
    {
     "name": "stdout",
     "output_type": "stream",
     "text": [
      "+-------+---+----------+------+\n",
      "|   Name|Age|Experience|Salary|\n",
      "+-------+---+----------+------+\n",
      "|  Zikri| 24|         1|  4500|\n",
      "|Zakhwan| 25|         1|  4700|\n",
      "|   Amir| 27|         2|  5000|\n",
      "|  Ammar| 30|         6|  8500|\n",
      "|  Haziq| 24|         2|  4700|\n",
      "|  Irfan| 25|         1|  6000|\n",
      "|  Fahmi| 27|         5|  7000|\n",
      "|  Majid| 27|         0|  5500|\n",
      "|   NULL| 25|         2|  5000|\n",
      "|    Ali| 25|         2|     0|\n",
      "|    Abu|  0|         0|     0|\n",
      "+-------+---+----------+------+\n",
      "\n"
     ]
    }
   ],
   "source": [
    "# fill missing value -> of integer\n",
    "\n",
    "df_pyspark.na.fill(0).show()"
   ]
  },
  {
   "cell_type": "code",
   "execution_count": 72,
   "id": "0d5a185c",
   "metadata": {},
   "outputs": [],
   "source": [
    "# get Imputer from pyspark.ml.feature\n",
    "\n",
    "from pyspark.ml.feature import Imputer\n",
    "\n",
    "imputer = Imputer(\n",
    "    inputCols = ['Age', 'Experience', 'Salary'],\n",
    "    outputCols = [\"{}_imputed\".format(c) for c in ['Age', 'Experience', 'Salary']]\n",
    ").setStrategy(\"mean\")"
   ]
  },
  {
   "cell_type": "code",
   "execution_count": 73,
   "id": "3c88b5f7",
   "metadata": {},
   "outputs": [
    {
     "name": "stdout",
     "output_type": "stream",
     "text": [
      "+-------+----+----------+------+-----------+------------------+--------------+\n",
      "|   Name| Age|Experience|Salary|Age_imputed|Experience_imputed|Salary_imputed|\n",
      "+-------+----+----------+------+-----------+------------------+--------------+\n",
      "|  Zikri|  24|         1|  4500|         24|                 1|          4500|\n",
      "|Zakhwan|  25|         1|  4700|         25|                 1|          4700|\n",
      "|   Amir|  27|         2|  5000|         27|                 2|          5000|\n",
      "|  Ammar|  30|         6|  8500|         30|                 6|          8500|\n",
      "|  Haziq|  24|         2|  4700|         24|                 2|          4700|\n",
      "|  Irfan|  25|         1|  6000|         25|                 1|          6000|\n",
      "|  Fahmi|  27|         5|  7000|         27|                 5|          7000|\n",
      "|  Majid|  27|      NULL|  5500|         27|                 2|          5500|\n",
      "|   NULL|  25|         2|  5000|         25|                 2|          5000|\n",
      "|    Ali|  25|         2|  NULL|         25|                 2|          5655|\n",
      "|    Abu|NULL|      NULL|  NULL|         25|                 2|          5655|\n",
      "+-------+----+----------+------+-----------+------------------+--------------+\n",
      "\n"
     ]
    }
   ],
   "source": [
    "# set the fill value to the mean value\n",
    "# the NULL value get replace to mean\n",
    "\n",
    "imputer.fit(df_pyspark).transform(df_pyspark).show()"
   ]
  },
  {
   "cell_type": "code",
   "execution_count": 74,
   "id": "31d21ca0",
   "metadata": {},
   "outputs": [
    {
     "name": "stdout",
     "output_type": "stream",
     "text": [
      "+-------+----+----------+------+-----------+------------------+--------------+\n",
      "|   Name| Age|Experience|Salary|Age_imputed|Experience_imputed|Salary_imputed|\n",
      "+-------+----+----------+------+-----------+------------------+--------------+\n",
      "|  Zikri|  24|         1|  4500|         24|                 1|          4500|\n",
      "|Zakhwan|  25|         1|  4700|         25|                 1|          4700|\n",
      "|   Amir|  27|         2|  5000|         27|                 2|          5000|\n",
      "|  Ammar|  30|         6|  8500|         30|                 6|          8500|\n",
      "|  Haziq|  24|         2|  4700|         24|                 2|          4700|\n",
      "|  Irfan|  25|         1|  6000|         25|                 1|          6000|\n",
      "|  Fahmi|  27|         5|  7000|         27|                 5|          7000|\n",
      "|  Majid|  27|      NULL|  5500|         27|                 2|          5500|\n",
      "|   NULL|  25|         2|  5000|         25|                 2|          5000|\n",
      "|    Ali|  25|         2|  NULL|         25|                 2|          5000|\n",
      "|    Abu|NULL|      NULL|  NULL|         25|                 2|          5000|\n",
      "+-------+----+----------+------+-----------+------------------+--------------+\n",
      "\n"
     ]
    }
   ],
   "source": [
    "# get Imputer from pyspark.ml.feature\n",
    "\n",
    "from pyspark.ml.feature import Imputer\n",
    "\n",
    "imputer = Imputer(\n",
    "    inputCols = ['Age', 'Experience', 'Salary'],\n",
    "    outputCols = [\"{}_imputed\".format(c) for c in ['Age', 'Experience', 'Salary']]\n",
    ").setStrategy(\"median\")\n",
    "\n",
    "# set the fill value to the median value\n",
    "# the NULL value get replace to median\n",
    "\n",
    "imputer.fit(df_pyspark).transform(df_pyspark).show()"
   ]
  }
 ],
 "metadata": {
  "kernelspec": {
   "display_name": "Python 3 (ipykernel)",
   "language": "python",
   "name": "python3"
  },
  "language_info": {
   "codemirror_mode": {
    "name": "ipython",
    "version": 3
   },
   "file_extension": ".py",
   "mimetype": "text/x-python",
   "name": "python",
   "nbconvert_exporter": "python",
   "pygments_lexer": "ipython3",
   "version": "3.10.9"
  }
 },
 "nbformat": 4,
 "nbformat_minor": 5
}
